{
 "cells": [
  {
   "cell_type": "code",
   "execution_count": 2,
   "metadata": {},
   "outputs": [],
   "source": [
    "import networkx as nx\n",
    "import matplotlib.pyplot as plt\n",
    "import numpy as np\n",
    "plt.style.use('bmh')"
   ]
  },
  {
   "cell_type": "markdown",
   "metadata": {},
   "source": [
    "#### PART 1\n"
   ]
  },
  {
   "cell_type": "markdown",
   "metadata": {},
   "source": [
    "We can generate p-ER random graphs and r-regular random graphs with the following networkx functions. Where p is the probability that given 2 different nodes there exists an edge between them, and r is the number of neighbours that each graph has."
   ]
  },
  {
   "cell_type": "code",
   "execution_count": 19,
   "metadata": {},
   "outputs": [],
   "source": [
    "ERgraph = nx.erdos_renyi_graph(n=100,p=0.05) # n is the number of nodes, p the probability\n",
    "regular_graph = nx.random_regular_graph(d=8,n=100) # d is the number of neighbours, n is the number of nodes"
   ]
  },
  {
   "cell_type": "markdown",
   "metadata": {},
   "source": [
    "#### PART 2"
   ]
  },
  {
   "cell_type": "markdown",
   "metadata": {},
   "source": [
    "To verify the connectivity of a graph we have 3 options: \\\n",
    "$\\bf{BFS}$: starting from a generic node we explore the graph, and if the final visited nodes are equal to the total nodes it means \n",
    "     that the graph is connected\n",
    "$\\bf{Adjacency \\ matrix} $: To check if the graph is connected we need to check if the adjacency matrix $ A $ is irreducible, i.e. if:  $\\bf{I} + A^1 + A^2 + ... + A^{n-1}>0$, where $n$ is the number of nodes (also number of rows and columns, $A$ is $nxn$). The > 0 means that all terms of the final matrix given by the sum of all those exponential matrix are greater than 0. To do this we have to evaluate the exponential of a matrix. This can be compute by repeating the multiplication $n$ times and then summing all the terms, but it is not very effiecient i think. I am thinking alternative ways, like diagonalizing the matrix (changing coordinates). \\\n",
    "$\\bf{Laplacian \\ eigenvalues}$: The connectivity can also be verified studying the multiplicity of the second smallest eigenvalue of the Laplacian Matrix, that is the matrix defined in the following way: $L = D - A$, where $A$ is the adjacency matrix, and $D$ is the diagonal matrix where the entries are all the degrees of the nodes. The eigenvalues can be computed with $\\texttt{numpy}$ functions, like $\\texttt{numpy.linalg.eig}$ ,and what we have to do is to find the second smallest eigenvalue (the smallest is always 0), and check how many times it occurs. For example, if the eigenvalues of a matrix are 0,2,2,3,4 the second smallest is 2 and it occurs 2 times, it means that the graph is formed by 2 connected parts. So a graph is connected if and only if the second smallest eigenvalue occurs only one time."
   ]
  },
  {
   "cell_type": "markdown",
   "metadata": {},
   "source": [
    "#### PART 3 "
   ]
  },
  {
   "cell_type": "markdown",
   "metadata": {},
   "source": [
    "The complexities as function of the number of nodes are known for the BFS algorithm, and for the diagonalization (should be $=O(N^3)$), for the adjacency matrix part we still have to choose one method."
   ]
  },
  {
   "cell_type": "markdown",
   "metadata": {},
   "source": [
    "#### PART 4"
   ]
  },
  {
   "cell_type": "markdown",
   "metadata": {},
   "source": [
    "Since a random graph can be connect or not, we run a monte carlo simulation to check its connectivity. Here an example of the case for the $p-ER$ random graph:"
   ]
  },
  {
   "cell_type": "code",
   "execution_count": null,
   "metadata": {},
   "outputs": [],
   "source": [
    "# list to save the p values, probability that there exists an edge between 2 nodes\n",
    "p_values = []\n",
    "# list to save the compute probabilities by MC simulation\n",
    "prob_connected = []\n",
    "# starting value\n",
    "p = 0\n",
    "# j in this case doesn't enter in the loop, it is just needed to run the cycle 100 times and to increase each time p by 0.001\n",
    "for j in range(100):\n",
    "    p_values.append(p)\n",
    "    is_connected_counter = 0\n",
    "    # in this second for loop, having fixed p, we generate the graph 1000 times, since the process is random the outcome \n",
    "    # will be different every time. With the function nx.is_connected() we check the connectivity and if it is connected\n",
    "    # then we increase by 1 the counter. At the end we append the fraction of times the graph was connectd and the total\n",
    "    #times we generated the graph\n",
    "    for i in range(1000):\n",
    "        ERgraph = nx.erdos_renyi_graph(100,p)\n",
    "        if nx.is_connected(ERgraph):\n",
    "            is_connected_counter += 1\n",
    "    # finished the previous loop we increase the value of p and append the fraction. \n",
    "    p += 0.001\n",
    "    prob_connected.append(is_connected_counter/1000)"
   ]
  },
  {
   "cell_type": "code",
   "execution_count": 52,
   "metadata": {},
   "outputs": [
    {
     "data": {
      "text/plain": [
       "<matplotlib.collections.PathCollection at 0x23f49f698d0>"
      ]
     },
     "execution_count": 52,
     "metadata": {},
     "output_type": "execute_result"
    },
    {
     "data": {
      "image/png": "[encoded data removed]",
      "text/plain": [
       "<Figure size 432x288 with 1 Axes>"
      ]
     },
     "metadata": {
      "needs_background": "light"
     },
     "output_type": "display_data"
    }
   ],
   "source": [
    "# here is the probability\n",
    "plt.scatter(p_values,prob_connected)"
   ]
  },
  {
   "cell_type": "code",
   "execution_count": 17,
   "metadata": {},
   "outputs": [],
   "source": [
    "# same thing here for the r-regula graph\n",
    "K_values = []\n",
    "prob_connected = []\n",
    "for K in range(3,101):\n",
    "    #print(K)\n",
    "    K_values.append(K)\n",
    "    is_connected_counter = 0\n",
    "    for i in range(1000):\n",
    "        regular_graph = nx.random_regular_graph(d=2,n=K)\n",
    "        if nx.is_connected(regular_graph):\n",
    "            is_connected_counter += 1\n",
    "    prob_connected.append(is_connected_counter/1000)"
   ]
  },
  {
   "cell_type": "code",
   "execution_count": 18,
   "metadata": {},
   "outputs": [
    {
     "data": {
      "text/plain": [
       "<matplotlib.collections.PathCollection at 0x2c0a613bb38>"
      ]
     },
     "execution_count": 18,
     "metadata": {},
     "output_type": "execute_result"
    },
    {
     "data": {
      "image/png": "[encoded data removed]",
      "text/plain": [
       "<Figure size 432x288 with 1 Axes>"
      ]
     },
     "metadata": {
      "needs_background": "light"
     },
     "output_type": "display_data"
    }
   ],
   "source": [
    "plt.scatter(K_values, prob_connected)"
   ]
  }
 ],
 "metadata": {
  "kernelspec": {
   "display_name": "Python 3",
   "language": "python",
   "name": "python3"
  },
  "language_info": {
   "codemirror_mode": {
    "name": "ipython",
    "version": 3
   },
   "file_extension": ".py",
   "mimetype": "text/x-python",
   "name": "python",
   "nbconvert_exporter": "python",
   "pygments_lexer": "ipython3",
   "version": "3.7.1"
  }
 },
 "nbformat": 4,
 "nbformat_minor": 2
}
