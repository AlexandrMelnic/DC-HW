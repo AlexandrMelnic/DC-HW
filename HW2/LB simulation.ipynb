{
 "cells": [
  {
   "cell_type": "code",
   "execution_count": 1,
   "metadata": {},
   "outputs": [],
   "source": [
    "import numpy as np\n",
    "import matplotlib.pyplot as plt\n",
    "import seaborn as sns"
   ]
  },
  {
   "cell_type": "markdown",
   "metadata": {},
   "source": [
    "#### Generate the inter-arrival times"
   ]
  },
  {
   "cell_type": "code",
   "execution_count": 55,
   "metadata": {},
   "outputs": [],
   "source": [
    "def inter_arrival_times (q, T0, mean_Y, N):\n",
    "    inter_times = []\n",
    "    for i in range(N):\n",
    "        r = np.random.random()\n",
    "        if r <= q:\n",
    "            T = T0\n",
    "        else:\n",
    "            T = T0-mean_Y*np.log(np.random.random())\n",
    "        inter_times.append(int(round(T)))\n",
    "    return(inter_times)"
   ]
  },
  {
   "cell_type": "code",
   "execution_count": 82,
   "metadata": {},
   "outputs": [
    {
     "data": {
      "text/plain": [
       "5.01593"
      ]
     },
     "execution_count": 82,
     "metadata": {},
     "output_type": "execute_result"
    }
   ],
   "source": [
    "times = inter_arrival_times(q=3/5, T0=1, mean_Y=10, N=100000)\n",
    "# simulated mean\n",
    "np.mean(times)"
   ]
  },
  {
   "cell_type": "code",
   "execution_count": 84,
   "metadata": {},
   "outputs": [
    {
     "data": {
      "text/plain": [
       "5.0"
      ]
     },
     "execution_count": 84,
     "metadata": {},
     "output_type": "execute_result"
    }
   ],
   "source": [
    "# real mean\n",
    "expectation_inter_arrival_times = 1+(1-3/5)*10\n",
    "expectation_inter_arrival_times"
   ]
  },
  {
   "cell_type": "markdown",
   "metadata": {},
   "source": [
    "Check at what times each task arrives. In our simulation time is discrete so we can simulate the time passing as the number of loop iterations."
   ]
  },
  {
   "cell_type": "code",
   "execution_count": 75,
   "metadata": {},
   "outputs": [],
   "source": [
    "cumulative_times = np.zeros(len(times),dtype=int)\n",
    "for i in range(1,len(times)):\n",
    "    temp = cumulative_times[i-1] + times[i-1]\n",
    "    cumulative_times[i] = temp"
   ]
  },
  {
   "cell_type": "markdown",
   "metadata": {},
   "source": [
    "#### Processing time of tasks"
   ]
  },
  {
   "cell_type": "code",
   "execution_count": 123,
   "metadata": {},
   "outputs": [],
   "source": [
    "def processing_time(beta):    \n",
    "    expected_service_time = beta*2\n",
    "    r = np.random.random()\n",
    "    confront_min = []\n",
    "    confront_min.append(round(np.log(r)*np.log(r)*beta))\n",
    "    confront_min.append(100*expected_service_time)\n",
    "    min_temp = min(confront_min)\n",
    "    confront_max = []\n",
    "    confront_max.append(1)\n",
    "    confront_max.append(int(min_temp))\n",
    "    weibell_rv = max(confront_max)\n",
    "    return(weibell_rv)"
   ]
  },
  {
   "cell_type": "code",
   "execution_count": 148,
   "metadata": {},
   "outputs": [],
   "source": [
    "times = []\n",
    "for i in range(100000):\n",
    "    times.append(processing_time(beta = 40))"
   ]
  },
  {
   "cell_type": "code",
   "execution_count": 149,
   "metadata": {},
   "outputs": [
    {
     "name": "stdout",
     "output_type": "stream",
     "text": [
      "sim mean :  79.9396 |sim std:  180.53658840201896\n"
     ]
    }
   ],
   "source": [
    "# simulated mean, std\n",
    "print(\"sim mean : \",np.mean(times),\"|\" \"sim std: \", np.std(times))"
   ]
  },
  {
   "cell_type": "code",
   "execution_count": 150,
   "metadata": {},
   "outputs": [
    {
     "name": "stdout",
     "output_type": "stream",
     "text": [
      "real mean :  80 | real std :  176.0\n"
     ]
    }
   ],
   "source": [
    "# real mean and std with beta = 40\n",
    "print(\"real mean : \", 2*40, \"|\", \"real std : \", 2.2*2*40)"
   ]
  },
  {
   "cell_type": "markdown",
   "metadata": {},
   "source": [
    "#### Simulate a queue of a single server"
   ]
  },
  {
   "cell_type": "markdown",
   "metadata": {},
   "source": [
    "This is what should happen in each server fixed the queue. In the final simulation we can update everytime the queue of each server. "
   ]
  },
  {
   "cell_type": "code",
   "execution_count": 173,
   "metadata": {},
   "outputs": [],
   "source": [
    "queue = 10\n",
    "cont = 0\n",
    "waiting_time = []\n",
    "for t in range(1000):\n",
    "    if cont == 0:\n",
    "        service_time = processing_time(beta=40)\n",
    "    if cont == service_time:\n",
    "        if queue != 0:\n",
    "            queue = queue - 1 \n",
    "            cont = 0\n",
    "    waiting_time.append((\"tasks in queue: \"+str(queue), \"service time of current task: \"+str(service_time), \"time: \"+str(t)))\n",
    "    cont += 1"
   ]
  }
 ],
 "metadata": {
  "kernelspec": {
   "display_name": "Python 3",
   "language": "python",
   "name": "python3"
  },
  "language_info": {
   "codemirror_mode": {
    "name": "ipython",
    "version": 3
   },
   "file_extension": ".py",
   "mimetype": "text/x-python",
   "name": "python",
   "nbconvert_exporter": "python",
   "pygments_lexer": "ipython3",
   "version": "3.7.1"
  }
 },
 "nbformat": 4,
 "nbformat_minor": 2
}
